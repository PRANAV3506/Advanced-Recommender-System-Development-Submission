{
 "cells": [
  {
   "cell_type": "code",
   "execution_count": 3,
   "id": "5c218c62-1b97-4039-85b5-acd7df7af911",
   "metadata": {},
   "outputs": [
    {
     "name": "stdout",
     "output_type": "stream",
     "text": [
      "Requirement already satisfied: pandas in ./.local/lib/python3.8/site-packages (2.0.3)\n",
      "Requirement already satisfied: scikit-learn in ./.local/lib/python3.8/site-packages (1.3.2)\n",
      "Collecting surprise\n",
      "  Downloading surprise-0.1-py2.py3-none-any.whl (1.8 kB)\n",
      "Requirement already satisfied: tzdata>=2022.1 in ./.local/lib/python3.8/site-packages (from pandas) (2023.4)\n",
      "Requirement already satisfied: python-dateutil>=2.8.2 in ./.local/lib/python3.8/site-packages (from pandas) (2.8.2)\n",
      "Requirement already satisfied: pytz>=2020.1 in ./.local/lib/python3.8/site-packages (from pandas) (2024.1)\n",
      "Requirement already satisfied: numpy>=1.20.3; python_version < \"3.10\" in ./.local/lib/python3.8/site-packages (from pandas) (1.24.4)\n",
      "Requirement already satisfied: scipy>=1.5.0 in ./.local/lib/python3.8/site-packages (from scikit-learn) (1.10.1)\n",
      "Requirement already satisfied: joblib>=1.1.1 in ./.local/lib/python3.8/site-packages (from scikit-learn) (1.3.2)\n",
      "Requirement already satisfied: threadpoolctl>=2.0.0 in ./.local/lib/python3.8/site-packages (from scikit-learn) (3.2.0)\n",
      "Collecting scikit-surprise\n",
      "  Downloading scikit-surprise-1.1.3.tar.gz (771 kB)\n",
      "\u001b[K     |████████████████████████████████| 771 kB 23.5 MB/s eta 0:00:01\n",
      "\u001b[?25hRequirement already satisfied: six>=1.5 in /usr/lib/python3/dist-packages (from python-dateutil>=2.8.2->pandas) (1.14.0)\n",
      "Building wheels for collected packages: scikit-surprise\n",
      "  Building wheel for scikit-surprise (setup.py) ... \u001b[?25ldone\n",
      "\u001b[?25h  Created wheel for scikit-surprise: filename=scikit_surprise-1.1.3-cp38-cp38-linux_x86_64.whl size=3366956 sha256=95164681ea9ae084b23c33c92c5dad6219e1d08758a73b547a58ad9b6e327c8d\n",
      "  Stored in directory: /home/hduser/.cache/pip/wheels/af/db/86/2c18183a80ba05da35bf0fb7417aac5cddbd93bcb1b92fd3ea\n",
      "Successfully built scikit-surprise\n",
      "Installing collected packages: scikit-surprise, surprise\n",
      "Successfully installed scikit-surprise-1.1.3 surprise-0.1\n"
     ]
    }
   ],
   "source": [
    "!pip install pandas scikit-learn surprise\n"
   ]
  },
  {
   "cell_type": "code",
   "execution_count": 7,
   "id": "66d89fb4-bbc6-427a-b311-b1f4cdf35628",
   "metadata": {},
   "outputs": [],
   "source": [
    "import pandas as pd\n",
    "\n",
    "movies = pd.read_csv(\"movies.csv\")\n",
    "ratings = pd.read_csv(\"ratings.csv\")\n"
   ]
  },
  {
   "cell_type": "code",
   "execution_count": 8,
   "id": "a6de4d13-cef4-40c7-8391-427aa49f7c4e",
   "metadata": {},
   "outputs": [
    {
     "data": {
      "text/html": [
       "<div>\n",
       "<style scoped>\n",
       "    .dataframe tbody tr th:only-of-type {\n",
       "        vertical-align: middle;\n",
       "    }\n",
       "\n",
       "    .dataframe tbody tr th {\n",
       "        vertical-align: top;\n",
       "    }\n",
       "\n",
       "    .dataframe thead th {\n",
       "        text-align: right;\n",
       "    }\n",
       "</style>\n",
       "<table border=\"1\" class=\"dataframe\">\n",
       "  <thead>\n",
       "    <tr style=\"text-align: right;\">\n",
       "      <th></th>\n",
       "      <th>userId</th>\n",
       "      <th>movieId</th>\n",
       "      <th>rating</th>\n",
       "      <th>timestamp</th>\n",
       "    </tr>\n",
       "  </thead>\n",
       "  <tbody>\n",
       "    <tr>\n",
       "      <th>0</th>\n",
       "      <td>1</td>\n",
       "      <td>296</td>\n",
       "      <td>5.0</td>\n",
       "      <td>1.147880e+09</td>\n",
       "    </tr>\n",
       "    <tr>\n",
       "      <th>1</th>\n",
       "      <td>1</td>\n",
       "      <td>306</td>\n",
       "      <td>3.5</td>\n",
       "      <td>1.147869e+09</td>\n",
       "    </tr>\n",
       "    <tr>\n",
       "      <th>2</th>\n",
       "      <td>1</td>\n",
       "      <td>307</td>\n",
       "      <td>5.0</td>\n",
       "      <td>1.147869e+09</td>\n",
       "    </tr>\n",
       "    <tr>\n",
       "      <th>3</th>\n",
       "      <td>1</td>\n",
       "      <td>665</td>\n",
       "      <td>5.0</td>\n",
       "      <td>1.147879e+09</td>\n",
       "    </tr>\n",
       "    <tr>\n",
       "      <th>4</th>\n",
       "      <td>1</td>\n",
       "      <td>899</td>\n",
       "      <td>3.5</td>\n",
       "      <td>1.147869e+09</td>\n",
       "    </tr>\n",
       "    <tr>\n",
       "      <th>...</th>\n",
       "      <td>...</td>\n",
       "      <td>...</td>\n",
       "      <td>...</td>\n",
       "      <td>...</td>\n",
       "    </tr>\n",
       "    <tr>\n",
       "      <th>1144865</th>\n",
       "      <td>7721</td>\n",
       "      <td>1544</td>\n",
       "      <td>3.0</td>\n",
       "      <td>9.442212e+08</td>\n",
       "    </tr>\n",
       "    <tr>\n",
       "      <th>1144866</th>\n",
       "      <td>7721</td>\n",
       "      <td>1552</td>\n",
       "      <td>5.0</td>\n",
       "      <td>9.441464e+08</td>\n",
       "    </tr>\n",
       "    <tr>\n",
       "      <th>1144867</th>\n",
       "      <td>7721</td>\n",
       "      <td>1573</td>\n",
       "      <td>5.0</td>\n",
       "      <td>9.441464e+08</td>\n",
       "    </tr>\n",
       "    <tr>\n",
       "      <th>1144868</th>\n",
       "      <td>7721</td>\n",
       "      <td>1580</td>\n",
       "      <td>3.0</td>\n",
       "      <td>9.441459e+08</td>\n",
       "    </tr>\n",
       "    <tr>\n",
       "      <th>1144869</th>\n",
       "      <td>7721</td>\n",
       "      <td>158</td>\n",
       "      <td>NaN</td>\n",
       "      <td>NaN</td>\n",
       "    </tr>\n",
       "  </tbody>\n",
       "</table>\n",
       "<p>1144870 rows × 4 columns</p>\n",
       "</div>"
      ],
      "text/plain": [
       "         userId  movieId  rating     timestamp\n",
       "0             1      296     5.0  1.147880e+09\n",
       "1             1      306     3.5  1.147869e+09\n",
       "2             1      307     5.0  1.147869e+09\n",
       "3             1      665     5.0  1.147879e+09\n",
       "4             1      899     3.5  1.147869e+09\n",
       "...         ...      ...     ...           ...\n",
       "1144865    7721     1544     3.0  9.442212e+08\n",
       "1144866    7721     1552     5.0  9.441464e+08\n",
       "1144867    7721     1573     5.0  9.441464e+08\n",
       "1144868    7721     1580     3.0  9.441459e+08\n",
       "1144869    7721      158     NaN           NaN\n",
       "\n",
       "[1144870 rows x 4 columns]"
      ]
     },
     "execution_count": 8,
     "metadata": {},
     "output_type": "execute_result"
    }
   ],
   "source": [
    "ratings"
   ]
  },
  {
   "cell_type": "code",
   "execution_count": 9,
   "id": "d5cc3d94-a285-4932-ac70-a6d0e77d9a3f",
   "metadata": {},
   "outputs": [],
   "source": [
    "import pandas as pd\n",
    "from sklearn.feature_extraction.text import TfidfVectorizer\n",
    "from sklearn.metrics.pairwise import cosine_similarity"
   ]
  },
  {
   "cell_type": "code",
   "execution_count": 10,
   "id": "7bb7b73c-07d4-48d2-a3ee-c94dc7ea7c8e",
   "metadata": {},
   "outputs": [],
   "source": [
    "movies['clean_genres'] = movies['genres'].str.replace('\\|', ' ', regex=True)"
   ]
  },
  {
   "cell_type": "code",
   "execution_count": 11,
   "id": "8e075078-50f4-4838-9967-bf8f91d3467e",
   "metadata": {},
   "outputs": [],
   "source": [
    "tfidf_vectorizer = TfidfVectorizer(stop_words='english')\n",
    "tfidf_matrix = tfidf_vectorizer.fit_transform(movies['clean_genres'])"
   ]
  },
  {
   "cell_type": "code",
   "execution_count": 13,
   "id": "de06bfab-a240-466a-ae88-71ac2f549b69",
   "metadata": {},
   "outputs": [],
   "source": [
    "# Create a matrix of zeros of shape (num_users, num_genres_features)\n",
    "user_profiles = pd.DataFrame(index=ratings['userId'].unique(), columns=tfidf_vectorizer.get_feature_names_out(), data=0.0)\n",
    "\n",
    "for index, row in ratings.iterrows():\n",
    "    # Get the index of the movie in the original movies DataFrame\n",
    "    movie_idx = movies.index[movies['movieId'] == row['movieId']].tolist()[0]\n",
    "    \n",
    "    # Add the weighted genres to the user's profile\n",
    "    user_profiles.loc[row['userId']] += tfidf_matrix[movie_idx].toarray().flatten() * row['rating']\n",
    "\n",
    "# Normalize the user profiles\n",
    "user_profiles = user_profiles.div(user_profiles.sum(axis=1), axis=0)\n"
   ]
  },
  {
   "cell_type": "code",
   "execution_count": 14,
   "id": "6c490833-67e1-44a8-abc2-6670010a2468",
   "metadata": {},
   "outputs": [],
   "source": [
    "def recommend_movies(user_id, user_profiles, tfidf_matrix, movies, top_n=10):\n",
    "    # Compute cosine similarity between user profile and all movie genre vectors\n",
    "    user_vector = user_profiles.loc[user_id].values.reshape(1, -1)\n",
    "    cosine_sim = cosine_similarity(user_vector, tfidf_matrix)\n",
    "\n",
    "    # Get indices of the top_n most similar movies\n",
    "    top_movie_indices = cosine_sim.argsort().flatten()[-top_n:][::-1]\n",
    "\n",
    "    # Fetch the movie titles based on the indices\n",
    "    recommended_movies = movies.iloc[top_movie_indices]\n",
    "    return recommended_movies[['title', 'genres']]\n"
   ]
  },
  {
   "cell_type": "code",
   "execution_count": 17,
   "id": "aae08be4-c439-41e4-88e3-89cc4182cc5e",
   "metadata": {},
   "outputs": [
    {
     "name": "stdout",
     "output_type": "stream",
     "text": [
      "Recommended movies for user 1 :\n",
      "                                    title genres\n",
      "16722  Brink of Life (Nära livet) (1958)  Drama\n",
      "17575                      Aurora (2010)  Drama\n",
      "50513           Closed For Winter (2009)  Drama\n",
      "50510       An Ordinary Execution (2010)  Drama\n",
      "17555              Chak De India! (2007)  Drama\n",
      "17558             Cow, The (Gaav) (1969)  Drama\n",
      "17560                 Local Color (1977)  Drama\n",
      "17570              Iron Lady, The (2011)  Drama\n",
      "50498              Untold Scandal (2003)  Drama\n",
      "50496                    U-Carmen (2005)  Drama\n"
     ]
    }
   ],
   "source": [
    "user_id = 1  # Assuming this is a valid user ID in your dataset\n",
    "recommended_movies = recommend_movies(user_id, user_profiles, tfidf_matrix, movies, top_n=10)\n",
    "print(\"Recommended movies for user\", user_id, \":\\n\", recommended_movies)\n"
   ]
  },
  {
   "cell_type": "code",
   "execution_count": null,
   "id": "f5302188-f3e3-4222-8886-536cbff6001f",
   "metadata": {},
   "outputs": [],
   "source": []
  }
 ],
 "metadata": {
  "kernelspec": {
   "display_name": "Python 3 (ipykernel)",
   "language": "python",
   "name": "python3"
  },
  "language_info": {
   "codemirror_mode": {
    "name": "ipython",
    "version": 3
   },
   "file_extension": ".py",
   "mimetype": "text/x-python",
   "name": "python",
   "nbconvert_exporter": "python",
   "pygments_lexer": "ipython3",
   "version": "3.8.10"
  }
 },
 "nbformat": 4,
 "nbformat_minor": 5
}
